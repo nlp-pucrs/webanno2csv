{
 "cells": [
  {
   "cell_type": "code",
   "execution_count": 38,
   "metadata": {},
   "outputs": [],
   "source": [
    "import pandas as pd \n",
    "import json\n",
    "import os"
   ]
  },
  {
   "cell_type": "code",
   "execution_count": 39,
   "metadata": {},
   "outputs": [],
   "source": [
    "rows = {}\n",
    "rows['id_txt'] = []\n",
    "rows['Notif/Evol'] = []\n",
    "with open('layer_fatores_queda.json') as jfile:\n",
    "    data = json.load(jfile)\n",
    "    for tag in data['tags']: \n",
    "        rows[tag['tag_name']] = []\n",
    "    rows['Fator Desencadeante - Intrínseco'] = []\n",
    "    rows['Fator Desencadeante - Extrínseco'] = []\n",
    "    "
   ]
  },
  {
   "cell_type": "code",
   "execution_count": 40,
   "metadata": {},
   "outputs": [],
   "source": [
    "def create_values_tags():\n",
    "    \n",
    "    values_tags = {}\n",
    "    \n",
    "    with open('layer_fatores_queda.json') as jfile:\n",
    "        \n",
    "        data = json.load(jfile)\n",
    "        \n",
    "        for tag in data['tags']: \n",
    "            values_tags[tag['tag_name']] = []\n",
    "            \n",
    "    return values_tags"
   ]
  },
  {
   "cell_type": "code",
   "execution_count": 41,
   "metadata": {},
   "outputs": [],
   "source": [
    "def get_annotated_sentences(text, annotated_s):\n",
    "    annotated_sentences = [] \n",
    "    for annotated in annotated_s:\n",
    "        try:\n",
    "            if text[annotated['begin']:annotated['end']][-1:] == '.':\n",
    "                annotated_sentences.append((text[annotated['begin']:annotated['end']][:-1], annotated['value']))\n",
    "            else:\n",
    "                annotated_sentences.append((text[annotated['begin']:annotated['end']], annotated['value']))\n",
    "        except KeyError:\n",
    "            continue\n",
    "    return annotated_sentences"
   ]
  },
  {
   "cell_type": "code",
   "execution_count": 42,
   "metadata": {},
   "outputs": [],
   "source": [
    "def extract_notif_clinical_notes(text): \n",
    "    notif_clinical_notes = []\n",
    "    text_ = text.split('.\\n')\n",
    "    notif = ''\n",
    "    note = ''\n",
    "    for line in text_[7:]:\n",
    "        if line[:9] == 'Evolução:':\n",
    "            note += line + ' '\n",
    "        else:\n",
    "            notif += line + ' '\n",
    "    notif_clinical_notes.append(notif)\n",
    "    notif_clinical_notes.append(note)\n",
    "    return notif_clinical_notes"
   ]
  },
  {
   "cell_type": "code",
   "execution_count": 43,
   "metadata": {},
   "outputs": [],
   "source": [
    "def read_json(subdir,file):\n",
    "        \n",
    "    with open(subdir + \"/\" + file) as jfile:\n",
    "        \n",
    "        data = json.load(jfile)\n",
    "        text = data['_referenced_fss']['12']['sofaString']\n",
    "        file = subdir.split('/')[2]\n",
    "        notif_clinical_notes = extract_notif_clinical_notes(text)\n",
    "        annotated_sentences = get_annotated_sentences(text, data['_views']['_InitialView']['Teste'])\n",
    "    \n",
    "        for i, notif_clinical_note in enumerate(notif_clinical_notes):\n",
    "            if not notif_clinical_notes:\n",
    "                break\n",
    "            remove_sentences = []\n",
    "            values_tags = create_values_tags()\n",
    "            rows['id_txt'].append(file)\n",
    "            if i == 0:\n",
    "                rows['Notif/Evol'].append('Notificação')\n",
    "            else:\n",
    "                rows['Notif/Evol'].append('Evolução')\n",
    "            for annotated in annotated_sentences:\n",
    "                if annotated[0] in notif_clinical_note:\n",
    "                    remove_sentences.append(annotated)\n",
    "                    try:\n",
    "                        values_tags[annotated[1]].append(annotated[0])\n",
    "                    except KeyError:\n",
    "                        pass\n",
    "            annotated_sentences = [x for x in annotated_sentences if x not in remove_sentences]\n",
    "            for key, value in values_tags.items():\n",
    "                rows[key].append(value)"
   ]
  },
  {
   "cell_type": "code",
   "execution_count": 44,
   "metadata": {
    "scrolled": true
   },
   "outputs": [],
   "source": [
    "rootdir = './annotated_clinical_notes'\n",
    "for subdir, dirs, files in os.walk(rootdir):\n",
    "    for file in files:\n",
    "        if (os.path.join(subdir, file)[-11:] == 'amanda.json'):\n",
    "            read_json(subdir, file)"
   ]
  },
  {
   "cell_type": "code",
   "execution_count": 45,
   "metadata": {
    "scrolled": true
   },
   "outputs": [],
   "source": [
    "df = pd.DataFrame.from_dict(rows, orient='index')\n",
    "df = df.transpose()\n",
    "df = df.drop(['Fator Desencadeante - Intrínseco', 'Fator Desencadeante - Extrínseco'], axis=1)"
   ]
  },
  {
   "cell_type": "code",
   "execution_count": 46,
   "metadata": {},
   "outputs": [],
   "source": [
    "df.to_csv('extracoes_sentencas.csv')"
   ]
  }
 ],
 "metadata": {
  "kernelspec": {
   "display_name": "Python 3",
   "language": "python",
   "name": "python3"
  },
  "language_info": {
   "codemirror_mode": {
    "name": "ipython",
    "version": 3
   },
   "file_extension": ".py",
   "mimetype": "text/x-python",
   "name": "python",
   "nbconvert_exporter": "python",
   "pygments_lexer": "ipython3",
   "version": "3.6.5"
  }
 },
 "nbformat": 4,
 "nbformat_minor": 2
}

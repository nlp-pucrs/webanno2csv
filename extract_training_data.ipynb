{
 "cells": [
  {
   "cell_type": "code",
   "execution_count": 1,
   "metadata": {},
   "outputs": [
    {
     "name": "stderr",
     "output_type": "stream",
     "text": [
      "/opt/conda/lib/python3.6/importlib/_bootstrap.py:219: RuntimeWarning: numpy.dtype size changed, may indicate binary incompatibility. Expected 96, got 88\n",
      "  return f(*args, **kwds)\n"
     ]
    }
   ],
   "source": [
    "import pandas as pd \n",
    "import json\n",
    "import os"
   ]
  },
  {
   "cell_type": "markdown",
   "metadata": {},
   "source": [
    "## Preparando dicionário para o DataFrame"
   ]
  },
  {
   "cell_type": "code",
   "execution_count": 2,
   "metadata": {},
   "outputs": [],
   "source": [
    "rows = {}\n",
    "rows['Evolucao'] = []\n",
    "rows['Target'] = []\n",
    "with open('layer_fatores_queda.json') as jfile:\n",
    "    data = json.load(jfile)\n",
    "    for tag in data['tags']: \n",
    "        rows[tag['tag_name']] = [] "
   ]
  },
  {
   "cell_type": "markdown",
   "metadata": {},
   "source": [
    "## Preparando as anotações"
   ]
  },
  {
   "cell_type": "code",
   "execution_count": 3,
   "metadata": {},
   "outputs": [],
   "source": [
    "def create_values_tags():\n",
    "    values_tags = {}\n",
    "    with open('layer_fatores_queda.json') as jfile:\n",
    "        data = json.load(jfile)\n",
    "        for tag in data['tags']: \n",
    "            values_tags[tag['tag_name']] = 0\n",
    "    return values_tags"
   ]
  },
  {
   "cell_type": "code",
   "execution_count": 4,
   "metadata": {},
   "outputs": [],
   "source": [
    "def get_annotated_sentences(text, annotated_s):\n",
    "    annotated_sentences = [] \n",
    "    for annotated in annotated_s:\n",
    "        try:\n",
    "            if text[annotated['begin']:annotated['end']][-1:] == '.':\n",
    "                annotated_sentences.append((text[annotated['begin']:annotated['end']][:-1], annotated['value']))\n",
    "            else:\n",
    "                annotated_sentences.append((text[annotated['begin']:annotated['end']], annotated['value']))\n",
    "        except KeyError:\n",
    "            continue\n",
    "    return annotated_sentences"
   ]
  },
  {
   "cell_type": "code",
   "execution_count": 5,
   "metadata": {},
   "outputs": [],
   "source": [
    "def extract_clinical_notes(text): \n",
    "    clinical_notes = []\n",
    "    text_ = text.split('.\\n')\n",
    "    for line in text_[7:]:\n",
    "        if line[:9] == 'Evolução:':\n",
    "           clinical_notes.append(line[9:]) \n",
    "    return clinical_notes"
   ]
  },
  {
   "cell_type": "code",
   "execution_count": 6,
   "metadata": {},
   "outputs": [],
   "source": [
    "def has_fall(value_tags):\n",
    "    lst = [v for k,v in value_tags.items() if 'Tipo de Queda' in k]\n",
    "    return 1 if 1 in lst else 0"
   ]
  },
  {
   "cell_type": "code",
   "execution_count": 7,
   "metadata": {},
   "outputs": [],
   "source": [
    "def read_json(subdir,file):    \n",
    "    with open(subdir + \"/\" + file) as jfile:\n",
    "        data = json.load(jfile)\n",
    "        text = data['_referenced_fss']['12']['sofaString']\n",
    "        file = subdir.split('/')[2]\n",
    "        clinical_notes = extract_clinical_notes(text)\n",
    "        annotated_sentences = get_annotated_sentences(text, data['_views']['_InitialView']['Teste'])\n",
    "        for clinical_note in clinical_notes:\n",
    "            remove_sentences = []\n",
    "            values_tags = create_values_tags()\n",
    "            rows['Evolucao'].append(clinical_note)\n",
    "            for annotated in annotated_sentences:\n",
    "                if annotated[0] in clinical_note:\n",
    "                    remove_sentences.append(annotated)                \n",
    "                    try:\n",
    "                        values_tags[annotated[1]] = 1 \n",
    "                    except KeyError:\n",
    "                        pass\n",
    "            rows['Target'].append(has_fall(values_tags))\n",
    "            annotated_sentences = [x for x in annotated_sentences if x not in remove_sentences]\n",
    "            for key, value in values_tags.items():\n",
    "                rows[key].append(value)"
   ]
  },
  {
   "cell_type": "markdown",
   "metadata": {},
   "source": [
    "## Percorrendo os arquivos das anotações"
   ]
  },
  {
   "cell_type": "code",
   "execution_count": 8,
   "metadata": {
    "scrolled": true
   },
   "outputs": [],
   "source": [
    "rootdir = './annotated_clinical_notes'\n",
    "for subdir, dirs, files in os.walk(rootdir):\n",
    "    for file in files:\n",
    "        if (os.path.join(subdir, file)[-11:] == 'amanda.json'):\n",
    "            read_json(subdir, file)"
   ]
  },
  {
   "cell_type": "code",
   "execution_count": 9,
   "metadata": {
    "scrolled": true
   },
   "outputs": [],
   "source": [
    "df = pd.DataFrame.from_dict(rows, orient='index')\n",
    "df = df.transpose()"
   ]
  },
  {
   "cell_type": "code",
   "execution_count": 11,
   "metadata": {},
   "outputs": [],
   "source": [
    "df.to_csv('training_data.csv')"
   ]
  }
 ],
 "metadata": {
  "kernelspec": {
   "display_name": "Python 3",
   "language": "python",
   "name": "python3"
  },
  "language_info": {
   "codemirror_mode": {
    "name": "ipython",
    "version": 3
   },
   "file_extension": ".py",
   "mimetype": "text/x-python",
   "name": "python",
   "nbconvert_exporter": "python",
   "pygments_lexer": "ipython3",
   "version": "3.6.5"
  }
 },
 "nbformat": 4,
 "nbformat_minor": 2
}

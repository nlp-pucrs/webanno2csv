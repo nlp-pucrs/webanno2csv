{
 "cells": [
  {
   "cell_type": "code",
   "execution_count": 8,
   "metadata": {},
   "outputs": [],
   "source": [
    "import pandas as pd\n",
    "import numpy as np\n",
    "from sklearn import preprocessing\n",
    "from sklearn.ensemble import RandomForestClassifier\n",
    "from sklearn.model_selection import StratifiedKFold\n",
    "from sklearn.model_selection import GridSearchCV, cross_val_score\n",
    "from sklearn.feature_extraction.text import TfidfVectorizer\n",
    "from sklearn.naive_bayes import MultinomialNB, GaussianNB\n",
    "from sklearn.metrics import mean_absolute_error\n",
    "from nltk.corpus import stopwords\n",
    "import nltk.stem"
   ]
  },
  {
   "cell_type": "code",
   "execution_count": 9,
   "metadata": {},
   "outputs": [],
   "source": [
    "corpus = pd.read_csv('training_data.csv')\n",
    "stopwords = stopwords.words(\"portuguese\")"
   ]
  },
  {
   "cell_type": "code",
   "execution_count": 10,
   "metadata": {},
   "outputs": [
    {
     "data": {
      "text/html": [
       "<div>\n",
       "<style scoped>\n",
       "    .dataframe tbody tr th:only-of-type {\n",
       "        vertical-align: middle;\n",
       "    }\n",
       "\n",
       "    .dataframe tbody tr th {\n",
       "        vertical-align: top;\n",
       "    }\n",
       "\n",
       "    .dataframe thead th {\n",
       "        text-align: right;\n",
       "    }\n",
       "</style>\n",
       "<table border=\"1\" class=\"dataframe\">\n",
       "  <thead>\n",
       "    <tr style=\"text-align: right;\">\n",
       "      <th></th>\n",
       "      <th>Unnamed: 0</th>\n",
       "      <th>Evolucao</th>\n",
       "      <th>Condições do paciente antes da queda</th>\n",
       "      <th>Dano não classificado adequadamente</th>\n",
       "      <th>Dúvida para Janete</th>\n",
       "      <th>Fator de Risco - Comportamental</th>\n",
       "      <th>Fator de Risco - Extrínseco</th>\n",
       "      <th>Fator de Risco - Intrínseco</th>\n",
       "      <th>Foi necessário algum procedimento. Qual?</th>\n",
       "      <th>Grau do Dano - Grave</th>\n",
       "      <th>...</th>\n",
       "      <th>Tipo de Queda I - Acidental</th>\n",
       "      <th>Tipo de Queda I - Fisiológica Antecipada</th>\n",
       "      <th>Tipo de Queda I - Não Antecipada</th>\n",
       "      <th>Tipo de Queda II - Ao Solo</th>\n",
       "      <th>Tipo de Queda II - Nível inferior</th>\n",
       "      <th>Tipo de Queda III - Outro</th>\n",
       "      <th>Tipo de Queda III - Própria Altura</th>\n",
       "      <th>Tipo do Dano - Físico</th>\n",
       "      <th>Tipo do Dano - Psicológico</th>\n",
       "      <th>Tipo do Dano - Social</th>\n",
       "    </tr>\n",
       "    <tr>\n",
       "      <th>Target</th>\n",
       "      <th></th>\n",
       "      <th></th>\n",
       "      <th></th>\n",
       "      <th></th>\n",
       "      <th></th>\n",
       "      <th></th>\n",
       "      <th></th>\n",
       "      <th></th>\n",
       "      <th></th>\n",
       "      <th></th>\n",
       "      <th></th>\n",
       "      <th></th>\n",
       "      <th></th>\n",
       "      <th></th>\n",
       "      <th></th>\n",
       "      <th></th>\n",
       "      <th></th>\n",
       "      <th></th>\n",
       "      <th></th>\n",
       "      <th></th>\n",
       "      <th></th>\n",
       "    </tr>\n",
       "  </thead>\n",
       "  <tbody>\n",
       "    <tr>\n",
       "      <th>0</th>\n",
       "      <td>442</td>\n",
       "      <td>442</td>\n",
       "      <td>442</td>\n",
       "      <td>442</td>\n",
       "      <td>442</td>\n",
       "      <td>442</td>\n",
       "      <td>442</td>\n",
       "      <td>442</td>\n",
       "      <td>442</td>\n",
       "      <td>442</td>\n",
       "      <td>...</td>\n",
       "      <td>442</td>\n",
       "      <td>442</td>\n",
       "      <td>442</td>\n",
       "      <td>442</td>\n",
       "      <td>442</td>\n",
       "      <td>442</td>\n",
       "      <td>442</td>\n",
       "      <td>442</td>\n",
       "      <td>442</td>\n",
       "      <td>442</td>\n",
       "    </tr>\n",
       "    <tr>\n",
       "      <th>1</th>\n",
       "      <td>195</td>\n",
       "      <td>195</td>\n",
       "      <td>195</td>\n",
       "      <td>195</td>\n",
       "      <td>195</td>\n",
       "      <td>195</td>\n",
       "      <td>195</td>\n",
       "      <td>195</td>\n",
       "      <td>195</td>\n",
       "      <td>195</td>\n",
       "      <td>...</td>\n",
       "      <td>195</td>\n",
       "      <td>195</td>\n",
       "      <td>195</td>\n",
       "      <td>195</td>\n",
       "      <td>195</td>\n",
       "      <td>195</td>\n",
       "      <td>195</td>\n",
       "      <td>195</td>\n",
       "      <td>195</td>\n",
       "      <td>195</td>\n",
       "    </tr>\n",
       "  </tbody>\n",
       "</table>\n",
       "<p>2 rows × 33 columns</p>\n",
       "</div>"
      ],
      "text/plain": [
       "        Unnamed: 0  Evolucao  Condições do paciente antes da queda  \\\n",
       "Target                                                               \n",
       "0              442       442                                   442   \n",
       "1              195       195                                   195   \n",
       "\n",
       "        Dano não classificado adequadamente  Dúvida para Janete  \\\n",
       "Target                                                            \n",
       "0                                       442                 442   \n",
       "1                                       195                 195   \n",
       "\n",
       "        Fator de Risco - Comportamental  Fator de Risco - Extrínseco  \\\n",
       "Target                                                                 \n",
       "0                                   442                          442   \n",
       "1                                   195                          195   \n",
       "\n",
       "        Fator de Risco - Intrínseco  Foi necessário algum procedimento. Qual?  \\\n",
       "Target                                                                          \n",
       "0                               442                                       442   \n",
       "1                               195                                       195   \n",
       "\n",
       "        Grau do Dano - Grave          ...            \\\n",
       "Target                                ...             \n",
       "0                        442          ...             \n",
       "1                        195          ...             \n",
       "\n",
       "        Tipo de Queda I - Acidental  Tipo de Queda I - Fisiológica Antecipada  \\\n",
       "Target                                                                          \n",
       "0                               442                                       442   \n",
       "1                               195                                       195   \n",
       "\n",
       "        Tipo de Queda I - Não Antecipada  Tipo de Queda II - Ao Solo  \\\n",
       "Target                                                                 \n",
       "0                                    442                         442   \n",
       "1                                    195                         195   \n",
       "\n",
       "        Tipo de Queda II - Nível inferior  Tipo de Queda III - Outro  \\\n",
       "Target                                                                 \n",
       "0                                     442                        442   \n",
       "1                                     195                        195   \n",
       "\n",
       "        Tipo de Queda III - Própria Altura  Tipo do Dano - Físico  \\\n",
       "Target                                                              \n",
       "0                                      442                    442   \n",
       "1                                      195                    195   \n",
       "\n",
       "        Tipo do Dano - Psicológico  Tipo do Dano - Social  \n",
       "Target                                                     \n",
       "0                              442                    442  \n",
       "1                              195                    195  \n",
       "\n",
       "[2 rows x 33 columns]"
      ]
     },
     "execution_count": 10,
     "metadata": {},
     "output_type": "execute_result"
    }
   ],
   "source": [
    "corpus.groupby('Target').count()"
   ]
  },
  {
   "cell_type": "code",
   "execution_count": 11,
   "metadata": {
    "scrolled": true
   },
   "outputs": [
    {
     "data": {
      "text/plain": [
       "(637, 34)"
      ]
     },
     "execution_count": 11,
     "metadata": {},
     "output_type": "execute_result"
    }
   ],
   "source": [
    "corpus.shape"
   ]
  },
  {
   "cell_type": "code",
   "execution_count": 12,
   "metadata": {},
   "outputs": [],
   "source": [
    "target = corpus['Target']\n",
    "corpus = corpus['Evolucao']\n",
    "model = RandomForestClassifier(n_jobs=16)"
   ]
  },
  {
   "cell_type": "code",
   "execution_count": 13,
   "metadata": {},
   "outputs": [],
   "source": [
    "portuguese_stemmer = nltk.stem.RSLPStemmer()\n",
    "class StemmedTfidfVectorizer(TfidfVectorizer):\n",
    "    def build_analyzer(self):\n",
    "        analyzer = super(TfidfVectorizer,self).build_analyzer()\n",
    "        return lambda doc: (portuguese_stemmer.stem(w) for w in analyzer(doc))"
   ]
  },
  {
   "cell_type": "code",
   "execution_count": 14,
   "metadata": {},
   "outputs": [
    {
     "name": "stdout",
     "output_type": "stream",
     "text": [
      "100: f1(0.6511), acc(0.8134), precision(0.7383), recall(0.6368)\n",
      "200: f1(0.6535), acc(0.8322), precision(0.7732), recall(0.5837)\n",
      "300: f1(0.6969), acc(0.8541), precision(0.791), recall(0.6426)\n",
      "400: f1(0.7117), acc(0.8462), precision(0.783), recall(0.6466)\n",
      "500: f1(0.6554), acc(0.8368), precision(0.8144), recall(0.6626)\n",
      "600: f1(0.6753), acc(0.8292), precision(0.776), recall(0.6308)\n",
      "700: f1(0.6792), acc(0.8211), precision(0.8061), recall(0.6318)\n",
      "800: f1(0.669), acc(0.8401), precision(0.7744), recall(0.6487)\n",
      "900: f1(0.701), acc(0.8323), precision(0.7734), recall(0.6584)\n",
      "1000: f1(0.6784), acc(0.8322), precision(0.8147), recall(0.6113)\n",
      "1100: f1(0.7195), acc(0.8321), precision(0.7495), recall(0.6061)\n",
      "1200: f1(0.6673), acc(0.829), precision(0.8048), recall(0.6411)\n",
      "1300: f1(0.6598), acc(0.8321), precision(0.79), recall(0.6318)\n",
      "1400: f1(0.6982), acc(0.8194), precision(0.762), recall(0.6413)\n",
      "1500: f1(0.6351), acc(0.835), precision(0.7549), recall(0.5797)\n",
      "1600: f1(0.7263), acc(0.8243), precision(0.7778), recall(0.6008)\n",
      "1700: f1(0.6642), acc(0.8336), precision(0.7785), recall(0.6268)\n",
      "1800: f1(0.6807), acc(0.8244), precision(0.8486), recall(0.5808)\n",
      "1900: f1(0.6869), acc(0.8116), precision(0.7952), recall(0.6155)\n"
     ]
    }
   ],
   "source": [
    "for i in range(100,2000,100):\n",
    "    data = TfidfVectorizer(max_features=i, strip_accents='unicode', stop_words=stopwords).fit_transform(corpus)\n",
    "    \n",
    "    f1 = cross_val_score(model, data.toarray(), target, cv=10, scoring='f1').mean()\n",
    "    acc = cross_val_score(model, data.toarray(), target, cv=10, scoring='accuracy').mean()\n",
    "    recall = cross_val_score(model, data.toarray(), target, cv=10, scoring='recall').mean()\n",
    "    precision = cross_val_score(model, data.toarray(), target, cv=10, scoring='precision').mean()\n",
    "    \n",
    "    print(str(i) + ': ' + 'f1(' + str(round(f1, 4)) \n",
    "          + '), acc(' + str(round(acc, 4)) \n",
    "          + '), precision(' + str(round(precision, 4)) \n",
    "          + '), recall(' + str(round(recall,4)) + ')')"
   ]
  },
  {
   "cell_type": "code",
   "execution_count": 15,
   "metadata": {},
   "outputs": [
    {
     "name": "stdout",
     "output_type": "stream",
     "text": [
      "700: f1(0.6826), acc(0.8337), precision(0.7751), recall(0.6511)\n"
     ]
    }
   ],
   "source": [
    "vectorizer = TfidfVectorizer(max_features=700, strip_accents='unicode', stop_words=stopwords)\n",
    "data = vectorizer.fit_transform(corpus)\n",
    "\n",
    "f1 = cross_val_score(model, data.toarray(), target, cv=10, scoring='f1').mean()\n",
    "acc = cross_val_score(model, data.toarray(), target, cv=10, scoring='accuracy').mean()\n",
    "recall = cross_val_score(model, data.toarray(), target, cv=10, scoring='recall').mean()\n",
    "precision = cross_val_score(model, data.toarray(), target, cv=10, scoring='precision').mean()\n",
    "\n",
    "print(str(700) + ': ' + 'f1(' + str(round(f1, 4)) \n",
    "          + '), acc(' + str(round(acc, 4)) \n",
    "          + '), precision(' + str(round(precision, 4)) \n",
    "          + '), recall(' + str(round(recall,4)) + ')')"
   ]
  },
  {
   "cell_type": "code",
   "execution_count": null,
   "metadata": {},
   "outputs": [],
   "source": [
    "feature_names = vectorizer.get_feature_names()"
   ]
  },
  {
   "cell_type": "code",
   "execution_count": null,
   "metadata": {},
   "outputs": [],
   "source": [
    "model.fit(data.toarray(),target)"
   ]
  },
  {
   "cell_type": "code",
   "execution_count": 18,
   "metadata": {},
   "outputs": [],
   "source": [
    "import pandas as pd\n",
    "feature_importances = pd.DataFrame(model.feature_importances_,\n",
    "                                   index = feature_names,\n",
    "                                    columns=['importance']).sort_values('importance', ascending=False)"
   ]
  },
  {
   "cell_type": "code",
   "execution_count": 19,
   "metadata": {},
   "outputs": [
    {
     "data": {
      "text/html": [
       "<div>\n",
       "<style scoped>\n",
       "    .dataframe tbody tr th:only-of-type {\n",
       "        vertical-align: middle;\n",
       "    }\n",
       "\n",
       "    .dataframe tbody tr th {\n",
       "        vertical-align: top;\n",
       "    }\n",
       "\n",
       "    .dataframe thead th {\n",
       "        text-align: right;\n",
       "    }\n",
       "</style>\n",
       "<table border=\"1\" class=\"dataframe\">\n",
       "  <thead>\n",
       "    <tr style=\"text-align: right;\">\n",
       "      <th></th>\n",
       "      <th>importance</th>\n",
       "    </tr>\n",
       "  </thead>\n",
       "  <tbody>\n",
       "    <tr>\n",
       "      <th>queda</th>\n",
       "      <td>0.078792</td>\n",
       "    </tr>\n",
       "    <tr>\n",
       "      <th>solo</th>\n",
       "      <td>0.069953</td>\n",
       "    </tr>\n",
       "    <tr>\n",
       "      <th>plantao</th>\n",
       "      <td>0.036170</td>\n",
       "    </tr>\n",
       "    <tr>\n",
       "      <th>cama</th>\n",
       "      <td>0.024594</td>\n",
       "    </tr>\n",
       "    <tr>\n",
       "      <th>chao</th>\n",
       "      <td>0.020743</td>\n",
       "    </tr>\n",
       "    <tr>\n",
       "      <th>tentar</th>\n",
       "      <td>0.020648</td>\n",
       "    </tr>\n",
       "    <tr>\n",
       "      <th>nao</th>\n",
       "      <td>0.018866</td>\n",
       "    </tr>\n",
       "    <tr>\n",
       "      <th>coren</th>\n",
       "      <td>0.018830</td>\n",
       "    </tr>\n",
       "    <tr>\n",
       "      <th>apresentou</th>\n",
       "      <td>0.017708</td>\n",
       "    </tr>\n",
       "    <tr>\n",
       "      <th>hnsc</th>\n",
       "      <td>0.014754</td>\n",
       "    </tr>\n",
       "    <tr>\n",
       "      <th>evoluido</th>\n",
       "      <td>0.013669</td>\n",
       "    </tr>\n",
       "    <tr>\n",
       "      <th>caiu</th>\n",
       "      <td>0.013100</td>\n",
       "    </tr>\n",
       "    <tr>\n",
       "      <th>clinico</th>\n",
       "      <td>0.012379</td>\n",
       "    </tr>\n",
       "    <tr>\n",
       "      <th>medica</th>\n",
       "      <td>0.010452</td>\n",
       "    </tr>\n",
       "    <tr>\n",
       "      <th>sair</th>\n",
       "      <td>0.010080</td>\n",
       "    </tr>\n",
       "  </tbody>\n",
       "</table>\n",
       "</div>"
      ],
      "text/plain": [
       "            importance\n",
       "queda         0.078792\n",
       "solo          0.069953\n",
       "plantao       0.036170\n",
       "cama          0.024594\n",
       "chao          0.020743\n",
       "tentar        0.020648\n",
       "nao           0.018866\n",
       "coren         0.018830\n",
       "apresentou    0.017708\n",
       "hnsc          0.014754\n",
       "evoluido      0.013669\n",
       "caiu          0.013100\n",
       "clinico       0.012379\n",
       "medica        0.010452\n",
       "sair          0.010080"
      ]
     },
     "execution_count": 19,
     "metadata": {},
     "output_type": "execute_result"
    }
   ],
   "source": [
    "feature_importances[:15]"
   ]
  }
 ],
 "metadata": {
  "kernelspec": {
   "display_name": "Python 3",
   "language": "python",
   "name": "python3"
  },
  "language_info": {
   "codemirror_mode": {
    "name": "ipython",
    "version": 3
   },
   "file_extension": ".py",
   "mimetype": "text/x-python",
   "name": "python",
   "nbconvert_exporter": "python",
   "pygments_lexer": "ipython3",
   "version": "3.6.5"
  }
 },
 "nbformat": 4,
 "nbformat_minor": 2
}
